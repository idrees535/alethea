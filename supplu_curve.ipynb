{
 "cells": [
  {
   "cell_type": "markdown",
   "metadata": {},
   "source": [
    "# Bonding Curve Params Configuration"
   ]
  },
  {
   "cell_type": "code",
   "execution_count": 175,
   "metadata": {},
   "outputs": [
    {
     "name": "stdout",
     "output_type": "stream",
     "text": [
      "0.0075,1e-10\n"
     ]
    },
    {
     "data": {
      "text/plain": [
       "(0.010000665128231048,\n",
       " 1.1082650899887087e-10,\n",
       " 99.99670603414235,\n",
       " 0.009999670603414236,\n",
       " 10000,\n",
       " 0.010000665129339387,\n",
       " 0.010000676211625228,\n",
       " 10000676211.625227,\n",
       " 10000665129.339388)"
      ]
     },
     "execution_count": 175,
     "metadata": {},
     "output_type": "execute_result"
    }
   ],
   "source": [
    "import math\n",
    "import numpy as np\n",
    "from scipy.integrate import quad\n",
    "from scipy.optimize import minimize, root\n",
    "\n",
    "initial_mc=750\n",
    "graduation_mc=75000\n",
    "total_supply = 1e12  # Total supply of tokens\n",
    "target_eth = 100  # Target ETH to be raised\n",
    "supply_sold_param=0.25\n",
    "\n",
    "\n",
    "initial_price = (initial_mc/total_supply)*10e6 # Initial price in ETH\n",
    "graduation_price = (graduation_mc/total_supply)*10e6  # Graduation price in ETH\n",
    "\n",
    "initial_supply = 1  # Starting from 0 supply\n",
    "max_supply_sold = 10000#supply_sold_param * total_supply\n",
    "\n",
    "# Define the system of equations for initial price and graduation price constraints\n",
    "def equations(vars):\n",
    "    a, b = vars\n",
    "    eq1 = a * np.exp(b * initial_supply) - initial_price\n",
    "    eq2 = a * np.exp(b * max_supply_sold) - graduation_price\n",
    "    return [eq1, eq2]\n",
    "\n",
    "# Initial guess\n",
    "initial_guess = [initial_price, 1e-10]\n",
    "\n",
    "# Solve the initial system of equations for a and b\n",
    "solution = root(equations, initial_guess)\n",
    "\n",
    "# Extract the initial solution\n",
    "a_initial, b_initial = solution.x\n",
    "print(f\"{a_initial},{b_initial}\")\n",
    "\n",
    "\n",
    "def total_accumulated_eth(a, b, initial_supply, max_supply_sold):\n",
    "    integral, _ = quad(lambda x: a * np.exp(b * x), initial_supply, max_supply_sold)\n",
    "    return integral\n",
    "\n",
    "# Define the cost function for adjusting a and b to meet accumulated ETH constraint\n",
    "def cost_function(vars):\n",
    "    a, b = vars\n",
    "    integral, _ = quad(lambda x: a * np.exp(b * x), initial_supply, max_supply_sold)\n",
    "    return (integral - target_eth)**2\n",
    "\n",
    "# Optimize a and b to meet accumulated ETH constraint\n",
    "optimized_solution = minimize(cost_function, [a_initial, b_initial], method='Nelder-Mead')\n",
    "\n",
    "# Extract the optimized solution\n",
    "a_optimized, b_optimized = optimized_solution.x\n",
    "\n",
    "def price_function(x):\n",
    "    return a_optimized * math.exp(b_optimized * x)\n",
    "\n",
    "# Verify the final accumulated ETH\n",
    "accumulated_eth_final = total_accumulated_eth(a_optimized, b_optimized, initial_supply, max_supply_sold)\n",
    "\n",
    "# Calculate tokens sold\n",
    "tokens_sold = max_supply_sold\n",
    "\n",
    "# Calculate the average price of tokens sold\n",
    "avg_price = accumulated_eth_final / tokens_sold\n",
    "\n",
    "#a=a_optimized\n",
    "#b=b_optimized\n",
    "\n",
    "a_optimized, b_optimized, accumulated_eth_final, avg_price,tokens_sold,price_function(initial_supply),price_function(max_supply_sold),price_function(max_supply_sold)*total_supply,price_function(initial_supply)*total_supply\n"
   ]
  },
  {
   "cell_type": "code",
   "execution_count": 183,
   "metadata": {},
   "outputs": [
    {
     "data": {
      "text/plain": [
       "(475.7357173848574, 0.010000665128231048, 289.6037788143323)"
      ]
     },
     "execution_count": 183,
     "metadata": {},
     "output_type": "execute_result"
    }
   ],
   "source": [
    "\n",
    "#a = 0.0000000008\n",
    "#b = 0.000000000742\n",
    "a=7.5e-10\n",
    "b=7.425e-12\n",
    "max_supply_sold=9.27e10\n",
    "a = 7.94e-10\n",
    "b = 3.26e-11\n",
    "\n",
    "liq_accumulated = (a / b) * (math.exp(b * max_supply_sold) - 1)\n",
    "liq_accumulated,price_function(0),price_function(max_supply_sold)"
   ]
  },
  {
   "cell_type": "code",
   "execution_count": 173,
   "metadata": {},
   "outputs": [
    {
     "data": {
      "image/png": "[encoded data removed]",
      "text/plain": [
       "<Figure size 640x480 with 1 Axes>"
      ]
     },
     "metadata": {},
     "output_type": "display_data"
    },
    {
     "name": "stdout",
     "output_type": "stream",
     "text": [
      "Plotted the exponential bonding curve.\n"
     ]
    }
   ],
   "source": [
    "import matplotlib.pyplot as plt\n",
    "import numpy as np\n",
    "\n",
    "a = 7.5e-10\n",
    "b = 7.425e-12\n",
    "\n",
    "supply = np.linspace(0, 10e10, 1000)\n",
    "price = a * np.exp(b * supply)\n",
    "\n",
    "plt.plot(supply, price)\n",
    "plt.xlabel('Supply (Tokens)')\n",
    "plt.ylabel('Price')\n",
    "plt.title('Exponential Bonding Curve')\n",
    "plt.show()\n",
    "print('Plotted the exponential bonding curve.')"
   ]
  },
  {
   "cell_type": "code",
   "execution_count": 182,
   "metadata": {},
   "outputs": [
    {
     "data": {
      "text/plain": [
       "289.6037788143323"
      ]
     },
     "execution_count": 182,
     "metadata": {},
     "output_type": "execute_result"
    }
   ],
   "source": [
    "a = 7.5e-10\n",
    "b = 7.425e-12\n",
    "price_function(9.27e10)"
   ]
  },
  {
   "cell_type": "code",
   "execution_count": 169,
   "metadata": {},
   "outputs": [
    {
     "data": {
      "text/plain": [
       "0.612"
      ]
     },
     "execution_count": 169,
     "metadata": {},
     "output_type": "execute_result"
    }
   ],
   "source": [
    "(6.12e9/1e12)*100"
   ]
  },
  {
   "cell_type": "code",
   "execution_count": 170,
   "metadata": {},
   "outputs": [
    {
     "data": {
      "text/plain": [
       "9.27"
      ]
     },
     "execution_count": 170,
     "metadata": {},
     "output_type": "execute_result"
    }
   ],
   "source": [
    "(9.27e10/1e12)*100"
   ]
  },
  {
   "cell_type": "code",
   "execution_count": 147,
   "metadata": {},
   "outputs": [
    {
     "data": {
      "text/plain": [
       "6130155336.329387"
      ]
     },
     "execution_count": 147,
     "metadata": {},
     "output_type": "execute_result"
    }
   ],
   "source": [
    "tokens_sold = total_usd_invested / (a * math.exp(b * max_supply_sold  / 2))\n",
    "tokens_sold "
   ]
  },
  {
   "cell_type": "code",
   "execution_count": 184,
   "metadata": {},
   "outputs": [
    {
     "data": {
      "text/plain": [
       "475.73571738406343"
      ]
     },
     "execution_count": 184,
     "metadata": {},
     "output_type": "execute_result"
    }
   ],
   "source": [
    "(a / b) * (math.exp(b * max_supply_sold)-math.exp(b * initial_supply))"
   ]
  },
  {
   "cell_type": "markdown",
   "metadata": {},
   "source": [
    "# Swap Functions"
   ]
  },
  {
   "cell_type": "code",
   "execution_count": 113,
   "metadata": {},
   "outputs": [
    {
     "name": "stdout",
     "output_type": "stream",
     "text": [
      "Tokens bought for 100ETH: 50001147615.53 tokens\n",
      "Supply after first purchase: 50001147615.53 tokens\n",
      "ETH received for selling 50001147615.53 tokens: 510.26 ETH\n"
     ]
    }
   ],
   "source": [
    "a=a_optimized\n",
    "b=b_optimized\n",
    "import numpy as np\n",
    "\n",
    "\n",
    "def tokens_for_eth(eth_amount, a, b, current_supply):\n",
    "    return (1 / b) * np.log((eth_amount * b / a) + np.exp(b * current_supply))\n",
    "\n",
    "def eth_for_tokens(tokens, a, b, current_supply):\n",
    "    return (a / b) * (np.exp(b * (tokens + current_supply)) - np.exp(b * current_supply))\n",
    "\n",
    "# Example usage\n",
    "current_supply = 0\n",
    "\n",
    "# First user buys 1 ETH worth of tokens\n",
    "eth_amount1 = 100\n",
    "tokens_bought1 = tokens_for_eth(eth_amount1, a, b, current_supply)\n",
    "new_supply1 = current_supply + tokens_bought1\n",
    "\n",
    "# Second user buys 2 ETH worth of tokens\n",
    "#eth_amount2 = 2\n",
    "#tokens_bought2 = tokens_for_eth(eth_amount2, a, b, new_supply1) - new_supply1\n",
    "#new_supply2 = new_supply1 + tokens_bought2\n",
    "\n",
    "# User sells some tokens\n",
    "tokens_sold = tokens_bought1\n",
    "eth_received = eth_for_tokens(tokens_sold, a, b, new_supply1)\n",
    "\n",
    "print(f\"Tokens bought for {eth_amount1}ETH: {tokens_bought1:.2f} tokens\")\n",
    "print(f\"Supply after first purchase: {new_supply1:.2f} tokens\")\n",
    "#print(f\"Tokens bought for 2 ETH: {tokens_bought2:.2f} tokens\")\n",
    "#print(f\"Supply after second purchase: {new_supply2:.2f} tokens\")\n",
    "print(f\"ETH received for selling {tokens_sold:.2f} tokens: {eth_received:.2f} ETH\")"
   ]
  },
  {
   "cell_type": "markdown",
   "metadata": {},
   "source": [
    "## Simulations"
   ]
  },
  {
   "cell_type": "code",
   "execution_count": 45,
   "metadata": {},
   "outputs": [
    {
     "name": "stdout",
     "output_type": "stream",
     "text": [
      "Initial supply: 1 USD\n",
      "Tokens purchased for 1 ETH: 1097081235.0433102\n",
      "ETH received for selling 1097081235.0433102 tokens: 0.9925648493060519\n",
      "Avg ETH Price per token 9.115095291558081e-10\n",
      "No exploitation: Trader cannot get more ETH than initially spent.\n",
      "---------------------------------------------------\n",
      "Initial supply: 1000000.0 USD\n",
      "Tokens purchased for 1 ETH: 1098088724.9086628\n",
      "ETH received for selling 1098088724.9086628 tokens: 0.9934593910226925\n",
      "Avg ETH Price per token 9.106732245913721e-10\n",
      "No exploitation: Trader cannot get more ETH than initially spent.\n",
      "---------------------------------------------------\n",
      "Initial supply: 20000000.0 USD\n",
      "Tokens purchased for 1 ETH: 1117231061.2474227\n",
      "ETH received for selling 1117231061.2474227 tokens: 1.0104498506269657\n",
      "Avg ETH Price per token 8.950699946378767e-10\n",
      "Exploitation detected: Trader can get more ETH than initially spent.\n",
      "---------------------------------------------------\n",
      "Initial supply: 100000000.0 USD\n",
      "Tokens purchased for 1 ETH: 1197830575.504358\n",
      "ETH received for selling 1197830575.504358 tokens: 1.0818668068965978\n",
      "Avg ETH Price per token 8.348426066674249e-10\n",
      "Exploitation detected: Trader can get more ETH than initially spent.\n",
      "---------------------------------------------------\n",
      "Initial supply: 200000000.0 USD\n",
      "Tokens purchased for 1 ETH: 1298580430.7118747\n",
      "ETH received for selling 1298580430.7118747 tokens: 1.1708616128186442\n",
      "Avg ETH Price per token 7.700716693010732e-10\n",
      "Exploitation detected: Trader can get more ETH than initially spent.\n",
      "---------------------------------------------------\n"
     ]
    }
   ],
   "source": [
    "import math\n",
    "\n",
    "def tokens_for_eth(eth_amount, a, b, current_supply):\n",
    "    return (1 / b) * np.log((eth_amount * b / a) + np.exp(b * current_supply))\n",
    "\n",
    "# Function to calculate the ETH received for selling tokens\n",
    "def eth_for_tokens(tokens, a, b, current_supply):\n",
    "    return (a / b) * (np.exp(b * (tokens + current_supply)) - np.exp(b * current_supply))\n",
    "\n",
    "\n",
    "def simulate_bonding_curve(eth_amount, a, b,current_supplies ):\n",
    "    for current_supply in current_supplies:\n",
    "        tokens_purchased= tokens_for_eth(eth_amount, a, b,current_supply)\n",
    "        eth_received = eth_for_tokens(tokens_purchased, a, b, current_supply+tokens_purchased)\n",
    "\n",
    "        print(f\"Initial supply: {current_supply} USD\")\n",
    "        print(f\"Tokens purchased for {eth_amount} ETH: {tokens_purchased}\")\n",
    "        print(f\"ETH received for selling {tokens_purchased} tokens: {eth_received}\")\n",
    "        print(f\"Avg ETH Price per token {eth_amount/tokens_purchased}\")\n",
    "\n",
    "        if eth_received > eth_amount:\n",
    "            print(\"Exploitation detected: Trader can get more ETH than initially spent.\")\n",
    "        else:\n",
    "            print(\"No exploitation: Trader cannot get more ETH than initially spent.\")\n",
    "        print(\"---------------------------------------------------\")\n",
    "\n",
    "\n",
    "eth_amount = 1  # Amount of ETH used for the trade\n",
    "\n",
    "current_supplies = [1, 1e6,2e7,1e8,2e8]  \n",
    "\n",
    "# Simulate bonding curve\n",
    "simulate_bonding_curve(eth_amount, a, b,current_supplies)\n"
   ]
  },
  {
   "cell_type": "code",
   "execution_count": 107,
   "metadata": {},
   "outputs": [
    {
     "name": "stdout",
     "output_type": "stream",
     "text": [
      "7.944823502562954e-10\n",
      "3.259408406787067e-11\n"
     ]
    },
    {
     "data": {
      "text/plain": [
       "[(0, 1233547273.630874, 1.0410255609295245),\n",
       " (100000, 1233643332.7577355, 1.0411149217936233),\n",
       " (200000, 1233739391.8969345, 1.041204284027306),\n",
       " (300000, 1233835451.0484695, 1.041293647630594),\n",
       " (400000, 1233931510.212346, 1.041383012603504),\n",
       " (500000, 1234027569.388563, 1.0414723789460572),\n",
       " (900000, 1234411806.2168078, 1.0418298580129897),\n",
       " (10000000, 1243153247.3874805, 1.0499684294866598)]"
      ]
     },
     "execution_count": 107,
     "metadata": {},
     "output_type": "execute_result"
    }
   ],
   "source": [
    "import math\n",
    "import numpy as np\n",
    "from scipy.integrate import quad\n",
    "from scipy.optimize import minimize, root\n",
    "\n",
    "# Given values\n",
    "initial_mc = 750\n",
    "graduation_mc = 75000\n",
    "total_supply = 1e12  # Total supply of tokens\n",
    "target_eth = 100  # Target ETH to be raised\n",
    "supply_sold_param = 0.05\n",
    "\n",
    "initial_price = initial_mc / total_supply  # Initial price in ETH\n",
    "graduation_price = graduation_mc / total_supply  # Graduation price in ETH\n",
    "\n",
    "initial_supply = 0  # Starting from 0 supply\n",
    "max_supply_sold = supply_sold_param * total_supply\n",
    "\n",
    "# Define the system of equations for initial price and graduation price constraints\n",
    "def equations(vars):\n",
    "    a, b = vars\n",
    "    eq1 = a * np.exp(b * initial_supply) - initial_price\n",
    "    eq2 = a * np.exp(b * max_supply_sold) - graduation_price\n",
    "    return [eq1, eq2]\n",
    "\n",
    "# Initial guess\n",
    "initial_guess = [initial_price, 1e-10]\n",
    "\n",
    "# Solve the initial system of equations for a and b\n",
    "solution = root(equations, initial_guess)\n",
    "\n",
    "# Extract the initial solution\n",
    "a_initial, b_initial = solution.x\n",
    "\n",
    "def total_accumulated_eth(a, b, initial_supply, max_supply_sold):\n",
    "    integral, _ = quad(lambda x: a * np.exp(b * x), initial_supply, max_supply_sold)\n",
    "    return integral\n",
    "\n",
    "# Define the cost function for adjusting a and b to meet accumulated ETH constraint\n",
    "def cost_function(vars):\n",
    "    a, b = vars\n",
    "    integral, _ = quad(lambda x: a * np.exp(b * x), initial_supply, max_supply_sold)\n",
    "    return (integral - target_eth)**2\n",
    "\n",
    "# Optimize a and b to meet accumulated ETH constraint\n",
    "optimized_solution = minimize(cost_function, [a_initial, b_initial], method='Nelder-Mead')\n",
    "\n",
    "# Extract the optimized solution\n",
    "a_optimized, b_optimized = optimized_solution.x\n",
    "\n",
    "print(a_optimized)\n",
    "print(b_optimized)\n",
    "\n",
    "def price_function(x):\n",
    "    return a_optimized * math.exp(b_optimized * x)\n",
    "\n",
    "# Verify the final accumulated ETH\n",
    "accumulated_eth_final = total_accumulated_eth(a_optimized, b_optimized, initial_supply, max_supply_sold)\n",
    "\n",
    "# Calculate tokens sold\n",
    "tokens_sold = max_supply_sold\n",
    "\n",
    "# Calculate the average price of tokens sold\n",
    "avg_price = accumulated_eth_final / tokens_sold\n",
    "\n",
    "# Swap functions\n",
    "def tokens_for_eth(eth_amount, a, b, current_supply):\n",
    "    return (1 / b) * np.log((eth_amount * b / a) + np.exp(b * current_supply))\n",
    "\n",
    "def eth_for_tokens(tokens, a, b, current_supply):\n",
    "    return (a / b) * (np.exp(b * (tokens + current_supply)) - np.exp(b * current_supply))\n",
    "\n",
    "# Simulations\n",
    "current_supplies = [0, 100000, 200000, 300000, 400000, 500000, 900000, 10000000]\n",
    "simulation_results = []\n",
    "\n",
    "for supply in current_supplies:\n",
    "    eth_amount = 1\n",
    "    tokens_bought = tokens_for_eth(eth_amount, a_optimized, b_optimized, supply)\n",
    "    eth_received = eth_for_tokens(tokens_bought, a_optimized, b_optimized, supply + tokens_bought)\n",
    "    simulation_results.append((supply, tokens_bought, eth_received))\n",
    "\n",
    "simulation_results\n"
   ]
  },
  {
   "cell_type": "code",
   "execution_count": 101,
   "metadata": {},
   "outputs": [
    {
     "data": {
      "text/plain": [
       "(7.944823502562954e-10, 3.259408406787067e-11)"
      ]
     },
     "execution_count": 101,
     "metadata": {},
     "output_type": "execute_result"
    }
   ],
   "source": [
    "a_optimized,b_optimized"
   ]
  },
  {
   "cell_type": "code",
   "execution_count": 99,
   "metadata": {},
   "outputs": [
    {
     "data": {
      "text/plain": [
       "3.259408406787067e-11"
      ]
     },
     "execution_count": 99,
     "metadata": {},
     "output_type": "execute_result"
    }
   ],
   "source": [
    "b_optimized"
   ]
  },
  {
   "cell_type": "code",
   "execution_count": 102,
   "metadata": {},
   "outputs": [
    {
     "data": {
      "text/plain": [
       "7.494917516180929e-08"
      ]
     },
     "execution_count": 102,
     "metadata": {},
     "output_type": "execute_result"
    }
   ],
   "source": [
    "price_function(1.395e11)"
   ]
  },
  {
   "cell_type": "code",
   "execution_count": 150,
   "metadata": {},
   "outputs": [
    {
     "data": {
      "image/png": "[encoded data removed]",
      "text/plain": [
       "<Figure size 640x480 with 1 Axes>"
      ]
     },
     "metadata": {},
     "output_type": "display_data"
    },
    {
     "name": "stdout",
     "output_type": "stream",
     "text": [
      "Plotted the exponential bonding curve.\n"
     ]
    }
   ],
   "source": [
    "import matplotlib.pyplot as plt\n",
    "import numpy as np\n",
    "\n",
    "a = 0.0000000008\n",
    "b = 0.000000000742\n",
    "\n",
    "supply = np.linspace(0, 7e9, 1000)\n",
    "price = a * np.exp(b * supply)\n",
    "\n",
    "plt.plot(supply, price)\n",
    "plt.xlabel('Supply (Tokens)')\n",
    "plt.ylabel('Price')\n",
    "plt.title('Exponential Bonding Curve')\n",
    "plt.show()\n",
    "print('Plotted the exponential bonding curve.')"
   ]
  },
  {
   "cell_type": "code",
   "execution_count": 154,
   "metadata": {},
   "outputs": [
    {
     "data": {
      "text/plain": [
       "9.660883360617143e-10"
      ]
     },
     "execution_count": 154,
     "metadata": {},
     "output_type": "execute_result"
    }
   ],
   "source": [
    "price_function(6e9)"
   ]
  },
  {
   "cell_type": "code",
   "execution_count": 140,
   "metadata": {},
   "outputs": [
    {
     "name": "stdout",
     "output_type": "stream",
     "text": [
      "Tokens for 1 ETH: 6119449683.086954\n",
      "ETH received for 6119449683.086954 tokens: 99.99999999999996\n"
     ]
    }
   ],
   "source": [
    "import numpy as np\n",
    "\n",
    "def eth_for_token(x_0, a, b, eth_amount):\n",
    "    \"\"\"\n",
    "    Calculate the number of tokens given an amount of ETH.\n",
    "    \"\"\"\n",
    "    delta_x = (1 / b) * np.log((eth_amount * b / a) + np.exp(b * x_0)) - x_0\n",
    "    return delta_x\n",
    "\n",
    "def token_for_eth(x_0, a, b, delta_x):\n",
    "    \"\"\"\n",
    "    Calculate the amount of ETH given a number of tokens.\n",
    "    \"\"\"\n",
    "    eth_amount = (a / b) * (np.exp(b * (x_0 + delta_x)) - np.exp(b * x_0))\n",
    "    return eth_amount\n",
    "\n",
    "# Parameters\n",
    "#a = 7.94e-10\n",
    "#b = 3.26e-11\n",
    "a = 0.0000000008\n",
    "b = 0.000000000742\n",
    "\n",
    "# Example usage\n",
    "x_0 = 0  # initial circulating supply\n",
    "eth_amount = 100  # 1 ETH\n",
    "\n",
    "# Calculate tokens for given ETH\n",
    "tokens = eth_for_token(x_0, a, b, eth_amount)\n",
    "print(f\"Tokens for 1 ETH: {tokens}\")\n",
    "\n",
    "# Calculate ETH for given tokens\n",
    "eth_received = token_for_eth(x_0, a, b, tokens)\n",
    "print(f\"ETH received for {tokens} tokens: {eth_received}\")\n"
   ]
  },
  {
   "cell_type": "code",
   "execution_count": 142,
   "metadata": {},
   "outputs": [
    {
     "data": {
      "text/plain": [
       "(6119449683.086954, -99.99999999999996)"
      ]
     },
     "execution_count": 142,
     "metadata": {},
     "output_type": "execute_result"
    }
   ],
   "source": [
    "def eth_for_token(x_0, a, b, eth_amount):\n",
    "    \"\"\"\n",
    "    Calculate the number of tokens given an amount of ETH.\n",
    "    \"\"\"\n",
    "    new_supply = x_0\n",
    "    delta_x = (1 / b) * np.log((eth_amount * b / a) + np.exp(b * new_supply)) - x_0\n",
    "    return delta_x\n",
    "\n",
    "def token_for_eth(x_0, a, b, tokens):\n",
    "    \"\"\"\n",
    "    Calculate the amount of ETH given a number of tokens.\n",
    "    \"\"\"\n",
    "    new_supply = x_0 + tokens\n",
    "    eth_amount = (a / b) * (np.exp(b * new_supply) - np.exp(b * x_0))\n",
    "    return eth_amount\n",
    "\n",
    "# Parameters\n",
    "a = 0.0000000008\n",
    "b = 0.000000000742\n",
    "# Initial circulating supply\n",
    "x_0 = 0\n",
    "# Step 1: Calculate tokens for given ETH\n",
    "eth_amount = 100  # 1 ETH\n",
    "tokens_bought = eth_for_token(x_0, a, b, eth_amount)\n",
    "x_0 += tokens_bought  # Update circulating supply after purchase\n",
    "\n",
    "# Step 2: Calculate ETH for given tokens using updated supply\n",
    "eth_received = token_for_eth(x_0, a, b, -tokens_bought)\n",
    "\n",
    "tokens_bought, eth_received"
   ]
  },
  {
   "cell_type": "code",
   "execution_count": 143,
   "metadata": {},
   "outputs": [
    {
     "name": "stdout",
     "output_type": "stream",
     "text": [
      "Tokens bought for 1 ETH: 501999705.1919899\n",
      "ETH received for selling the tokens: 5.000000000000003\n",
      "Does the ETH received match the initial ETH spent? True\n"
     ]
    }
   ],
   "source": [
    "import numpy as np\n",
    "\n",
    "def eth_for_token(x_0, a, b, eth_amount):\n",
    "    \"\"\"\n",
    "    Calculate the number of tokens given an amount of ETH.\n",
    "    \"\"\"\n",
    "    delta_x = (1 / b) * np.log((eth_amount * b / a) + np.exp(b * x_0)) - x_0\n",
    "    return delta_x\n",
    "\n",
    "def token_for_eth(x_0, a, b, tokens):\n",
    "    \"\"\"\n",
    "    Calculate the amount of ETH given a number of tokens.\n",
    "    \"\"\"\n",
    "    new_supply = x_0 - tokens  # Selling decreases the circulating supply\n",
    "    eth_amount = (a / b) * (np.exp(b * x_0) - np.exp(b * new_supply))\n",
    "    return eth_amount\n",
    "# Parameters\n",
    "#a = 7.94e-10\n",
    "#b = 3.26e-11\n",
    "a = 0.0000000008\n",
    "b = 0.000000000742\n",
    "\n",
    "# Initial circulating supply\n",
    "x_0 = 100000\n",
    "\n",
    "# Step 1: Calculate tokens for given ETH\n",
    "eth_amount = 10  # 1 ETH\n",
    "tokens_bought = eth_for_token(x_0, a, b, eth_amount)\n",
    "x_0 += tokens_bought  # Update circulating supply after purchase\n",
    "\n",
    "eth_amount = 5  # 1 ETH\n",
    "tokens_bought = eth_for_token(x_0, a, b, eth_amount)\n",
    "x_0 += tokens_bought  # Update circulating supply after purchase\n",
    "\n",
    "# Step 2: Calculate ETH for given tokens using updated supply\n",
    "eth_received = token_for_eth(x_0, a, b, tokens_bought)\n",
    "\n",
    "print(f\"Tokens bought for 1 ETH: {tokens_bought}\")\n",
    "print(f\"ETH received for selling the tokens: {eth_received}\")\n",
    "print(f\"Does the ETH received match the initial ETH spent? {np.isclose(eth_amount, eth_received)}\")\n"
   ]
  },
  {
   "cell_type": "code",
   "execution_count": null,
   "metadata": {},
   "outputs": [],
   "source": []
  }
 ],
 "metadata": {
  "kernelspec": {
   "display_name": "rich_venv",
   "language": "python",
   "name": "python3"
  },
  "language_info": {
   "codemirror_mode": {
    "name": "ipython",
    "version": 3
   },
   "file_extension": ".py",
   "mimetype": "text/x-python",
   "name": "python",
   "nbconvert_exporter": "python",
   "pygments_lexer": "ipython3",
   "version": "3.12.2"
  }
 },
 "nbformat": 4,
 "nbformat_minor": 2
}
