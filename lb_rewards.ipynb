{
 "cells": [
  {
   "cell_type": "code",
   "execution_count": null,
   "metadata": {},
   "outputs": [],
   "source": [
    "# Given values\n",
    "R = 1225  # Daily rewards in ALI tokens\n",
    "F = 0.1  # Protocol fee percentage\n",
    "\n",
    "# Calculate the minimum trading volume T required\n",
    "T_min = R / F\n",
    "T_min\n"
   ]
  }
 ],
 "metadata": {
  "kernelspec": {
   "display_name": "rich_venv",
   "language": "python",
   "name": "python3"
  },
  "language_info": {
   "name": "python",
   "version": "3.12.2"
  }
 },
 "nbformat": 4,
 "nbformat_minor": 2
}
