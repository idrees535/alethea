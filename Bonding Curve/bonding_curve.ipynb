{
 "cells": [
  {
   "cell_type": "code",
   "execution_count": 2,
   "metadata": {},
   "outputs": [],
   "source": [
    "class BondingCurve:\n",
    "    def __init__(self, k, n):\n",
    "        self.k = k\n",
    "        self.n = n\n",
    "        self.supply = 0  # Initial supply\n",
    "\n",
    "    def price_to_mint(self, delta_supply):\n",
    "        \"\"\"Calculate the price to mint a certain amount of tokens.\"\"\"\n",
    "        initial_price = self.k * (self.supply ** self.n)\n",
    "        final_price = self.k * ((self.supply + delta_supply) ** self.n)\n",
    "        return final_price - initial_price\n",
    "\n",
    "    def price_to_burn(self, delta_supply):\n",
    "        \"\"\"Calculate the refund for burning a certain amount of tokens.\"\"\"\n",
    "        initial_price = self.k * (self.supply ** self.n)\n",
    "        final_price = self.k * ((self.supply - delta_supply) ** self.n)\n",
    "        return initial_price - final_price\n",
    "\n",
    "    def mint(self, delta_supply):\n",
    "        \"\"\"Mint new tokens and adjust the total supply.\"\"\"\n",
    "        self.supply += delta_supply\n",
    "\n",
    "    def burn(self, delta_supply):\n",
    "        \"\"\"Burn tokens and adjust the total supply.\"\"\"\n",
    "        self.supply -= delta_supply"
   ]
  },
  {
   "cell_type": "code",
   "execution_count": 5,
   "metadata": {},
   "outputs": [
    {
     "name": "stdout",
     "output_type": "stream",
     "text": [
      "Cost to mint 10 tokens: 1.0\n",
      "Refund for burning 2 tokens: 0.36\n"
     ]
    }
   ],
   "source": [
    "curve = BondingCurve(k=0.01, n=2)\n",
    "\n",
    "tokens_to_mint = 10\n",
    "cost = curve.price_to_mint(tokens_to_mint)\n",
    "print(f\"Cost to mint {tokens_to_mint} tokens: {cost}\")\n",
    "curve.mint(tokens_to_mint)\n",
    "\n",
    "tokens_to_burn = 2\n",
    "refund = curve.price_to_burn(tokens_to_burn)\n",
    "print(f\"Refund for burning {tokens_to_burn} tokens: {refund}\")\n",
    "curve.burn(tokens_to_burn) "
   ]
  }
 ],
 "metadata": {
  "kernelspec": {
   "display_name": "abcde",
   "language": "python",
   "name": "python3"
  },
  "language_info": {
   "codemirror_mode": {
    "name": "ipython",
    "version": 3
   },
   "file_extension": ".py",
   "mimetype": "text/x-python",
   "name": "python",
   "nbconvert_exporter": "python",
   "pygments_lexer": "ipython3",
   "version": "3.9.6"
  }
 },
 "nbformat": 4,
 "nbformat_minor": 2
}
